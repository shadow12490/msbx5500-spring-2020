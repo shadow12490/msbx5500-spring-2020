{
 "cells": [
  {
   "cell_type": "markdown",
   "metadata": {},
   "source": [
    "# Lab 3: Script-kiddie machine learning model fitting and evaluation\n",
    "\n",
    "### Objectives\n",
    "\n",
    "* Task uses one dataset, credit card fraud. load using fetch_openml\n",
    "* Use sklearn pipeline from that one example for test-train-split, preprocessing and fitting\n",
    "* Fit 3 different classifiers models (e.g., logistic regression, SVM, decision tree) with their defaults\n",
    "* Plot the three models on a ROC curve and on a precision-recall curve\n",
    "* For each model, report:\n",
    "    * accuracy\n",
    "    * AUC of ROC\n",
    "    * AUC of precision-recall\n",
    "* For the model with the highest precision-recall AUC, report the cutoff threshold that maximizes the F1 score. Report the confusion matrix for the same threshold."
   ]
  },
  {
   "cell_type": "code",
   "execution_count": null,
   "metadata": {},
   "outputs": [],
   "source": []
  }
 ],
 "metadata": {
  "kernelspec": {
   "display_name": "Python 3",
   "language": "python",
   "name": "python3"
  },
  "language_info": {
   "codemirror_mode": {
    "name": "ipython",
    "version": 3
   },
   "file_extension": ".py",
   "mimetype": "text/x-python",
   "name": "python",
   "nbconvert_exporter": "python",
   "pygments_lexer": "ipython3",
   "version": "3.7.4"
  }
 },
 "nbformat": 4,
 "nbformat_minor": 2
}
